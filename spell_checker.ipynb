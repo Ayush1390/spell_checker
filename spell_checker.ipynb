{
 "cells": [
  {
   "cell_type": "code",
   "execution_count": 208,
   "id": "d2751671-a1ba-4e72-afee-627caa0b809b",
   "metadata": {},
   "outputs": [],
   "source": [
    "import re\n",
    "from tqdm import tqdm\n",
    "import pandas as pd"
   ]
  },
  {
   "cell_type": "code",
   "execution_count": 2,
   "id": "8d6c5850-8b0b-4a5f-8e46-dcd755a04af3",
   "metadata": {},
   "outputs": [],
   "source": [
    "## finding unique words and words"
   ]
  },
  {
   "cell_type": "code",
   "execution_count": 24,
   "id": "cc1a78e6-67f7-443b-b130-9c2ffcc564bc",
   "metadata": {},
   "outputs": [
    {
     "name": "stderr",
     "output_type": "stream",
     "text": [
      "<>:5: SyntaxWarning: invalid escape sequence '\\w'\n",
      "<>:5: SyntaxWarning: invalid escape sequence '\\w'\n",
      "C:\\Users\\DELL\\AppData\\Local\\Temp\\ipykernel_18636\\3433114929.py:5: SyntaxWarning: invalid escape sequence '\\w'\n",
      "  words += re.findall('\\w+',line.lower())\n"
     ]
    },
    {
     "name": "stdout",
     "output_type": "stream",
     "text": [
      "1115585\n",
      "32198\n"
     ]
    }
   ],
   "source": [
    "with open('big.txt', 'r') as fd:\n",
    "    lines = fd.readlines()\n",
    "    words = []\n",
    "    for line in lines:\n",
    "        words += re.findall('\\w+',line.lower())\n",
    "print(len(words))\n",
    "vocab = list(set(words))\n",
    "print(len(set(words)))"
   ]
  },
  {
   "cell_type": "code",
   "execution_count": 4,
   "id": "afbb2ff7-7192-4dd0-bf49-16358e76a3b8",
   "metadata": {},
   "outputs": [],
   "source": [
    "## finding probablity distribution"
   ]
  },
  {
   "cell_type": "code",
   "execution_count": 26,
   "id": "6bf80923-d272-4d09-b996-caaa200df2da",
   "metadata": {},
   "outputs": [
    {
     "data": {
      "text/plain": [
       "0.07154004401278254"
      ]
     },
     "execution_count": 26,
     "metadata": {},
     "output_type": "execute_result"
    }
   ],
   "source": [
    "words.count('the')/len(words)"
   ]
  },
  {
   "cell_type": "code",
   "execution_count": 30,
   "id": "c72fe4bb-84be-400b-8a6b-28637643f343",
   "metadata": {},
   "outputs": [
    {
     "name": "stderr",
     "output_type": "stream",
     "text": [
      "100%|██████████| 32198/32198 [09:24<00:00, 57.06it/s]\n"
     ]
    }
   ],
   "source": [
    "word_probability = {}\n",
    "for word in tqdm(vocab):\n",
    "    word_probability[word] = words.count(word)/len(words)"
   ]
  },
  {
   "cell_type": "code",
   "execution_count": 32,
   "id": "73eaea73-3371-48eb-b3f3-86fe4f9d3260",
   "metadata": {},
   "outputs": [],
   "source": [
    "## text preprocessing"
   ]
  },
  {
   "cell_type": "code",
   "execution_count": 76,
   "id": "bcd602a8-c957-4429-b1b7-4ea0f83a5155",
   "metadata": {},
   "outputs": [],
   "source": [
    "## splitting\n",
    "def split(w):\n",
    "    parts = []\n",
    "    for i in range(len(w)):\n",
    "        parts+=[(w[:i],w[i:])]\n",
    "    return parts"
   ]
  },
  {
   "cell_type": "code",
   "execution_count": 78,
   "id": "5e2943d7-7a70-49fe-a009-46966ebec5b2",
   "metadata": {},
   "outputs": [
    {
     "data": {
      "text/plain": [
       "[('', 'hello'), ('h', 'ello'), ('he', 'llo'), ('hel', 'lo'), ('hell', 'o')]"
      ]
     },
     "execution_count": 78,
     "metadata": {},
     "output_type": "execute_result"
    }
   ],
   "source": [
    "split('hello')"
   ]
  },
  {
   "cell_type": "code",
   "execution_count": 102,
   "id": "c9f2e2f7-34d1-4d87-8967-8d92b6974322",
   "metadata": {},
   "outputs": [],
   "source": [
    "## deleting\n",
    "def delete(word):\n",
    "    output = []\n",
    "    for l,r in split(word):\n",
    "        output.append(l+r[1:])\n",
    "    return output"
   ]
  },
  {
   "cell_type": "code",
   "execution_count": 104,
   "id": "d9f81b04-2b2a-450f-b784-5fa3cac82b99",
   "metadata": {},
   "outputs": [
    {
     "data": {
      "text/plain": [
       "['eallo', 'hallo', 'hello', 'healo', 'healo', 'heall']"
      ]
     },
     "execution_count": 104,
     "metadata": {},
     "output_type": "execute_result"
    }
   ],
   "source": [
    "delete('heallo')"
   ]
  },
  {
   "cell_type": "code",
   "execution_count": 126,
   "id": "143a38ec-022e-4207-a071-6644cbcfd49f",
   "metadata": {},
   "outputs": [],
   "source": [
    "## swapping\n",
    "def swap(word):\n",
    "    output = []\n",
    "    for l,r in split(word):\n",
    "        if(len(r)>1):\n",
    "            output.append(l+r[1]+r[0]+r[2:])\n",
    "    return output"
   ]
  },
  {
   "cell_type": "code",
   "execution_count": 128,
   "id": "95445824-8162-48f6-a76d-6ed0ebaf0bc6",
   "metadata": {},
   "outputs": [
    {
     "data": {
      "text/plain": [
       "['olev', 'leov', 'love']"
      ]
     },
     "execution_count": 128,
     "metadata": {},
     "output_type": "execute_result"
    }
   ],
   "source": [
    "swap('loev')"
   ]
  },
  {
   "cell_type": "code",
   "execution_count": 160,
   "id": "4e8bfeda-1ff4-4387-85bf-c9f6842eac13",
   "metadata": {},
   "outputs": [],
   "source": [
    "## replace\n",
    "def replace(word):\n",
    "    output = []\n",
    "    chars = 'abcdefghijklmnopqrstuvwxyz'\n",
    "    for l,r in split(word):\n",
    "        for chr in chars:\n",
    "            output.append(l+chr+r[1:])\n",
    "    return output"
   ]
  },
  {
   "cell_type": "code",
   "execution_count": 164,
   "id": "5c1f3723-ef7c-4ec8-92a8-421b39ed6378",
   "metadata": {},
   "outputs": [
    {
     "name": "stdout",
     "output_type": "stream",
     "text": [
      "['aoqe', 'boqe', 'coqe', 'doqe', 'eoqe', 'foqe', 'goqe', 'hoqe', 'ioqe', 'joqe', 'koqe', 'loqe', 'moqe', 'noqe', 'ooqe', 'poqe', 'qoqe', 'roqe', 'soqe', 'toqe', 'uoqe', 'voqe', 'woqe', 'xoqe', 'yoqe', 'zoqe', 'laqe', 'lbqe', 'lcqe', 'ldqe', 'leqe', 'lfqe', 'lgqe', 'lhqe', 'liqe', 'ljqe', 'lkqe', 'llqe', 'lmqe', 'lnqe', 'loqe', 'lpqe', 'lqqe', 'lrqe', 'lsqe', 'ltqe', 'luqe', 'lvqe', 'lwqe', 'lxqe', 'lyqe', 'lzqe', 'loae', 'lobe', 'loce', 'lode', 'loee', 'lofe', 'loge', 'lohe', 'loie', 'loje', 'loke', 'lole', 'lome', 'lone', 'looe', 'lope', 'loqe', 'lore', 'lose', 'lote', 'loue', 'love', 'lowe', 'loxe', 'loye', 'loze', 'loqa', 'loqb', 'loqc', 'loqd', 'loqe', 'loqf', 'loqg', 'loqh', 'loqi', 'loqj', 'loqk', 'loql', 'loqm', 'loqn', 'loqo', 'loqp', 'loqq', 'loqr', 'loqs', 'loqt', 'loqu', 'loqv', 'loqw', 'loqx', 'loqy', 'loqz']\n"
     ]
    }
   ],
   "source": [
    "print(replace('loqe'))"
   ]
  },
  {
   "cell_type": "code",
   "execution_count": 166,
   "id": "063e3cb8-3ef0-4343-9563-2b0906ddfbc2",
   "metadata": {},
   "outputs": [],
   "source": [
    "## insert\n",
    "def insert(word):\n",
    "    output = []\n",
    "    chars = 'abcdefghijklmnopqrstuvwxyz'\n",
    "    for l,r in split(word):\n",
    "        for chr in chars:\n",
    "            output.append(l+chr+r)\n",
    "    return output"
   ]
  },
  {
   "cell_type": "code",
   "execution_count": 176,
   "id": "91f1e0d7-b514-4fa5-9230-1707c207a6e4",
   "metadata": {},
   "outputs": [
    {
     "name": "stdout",
     "output_type": "stream",
     "text": [
      "['aloe', 'bloe', 'cloe', 'dloe', 'eloe', 'floe', 'gloe', 'hloe', 'iloe', 'jloe', 'kloe', 'lloe', 'mloe', 'nloe', 'oloe', 'ploe', 'qloe', 'rloe', 'sloe', 'tloe', 'uloe', 'vloe', 'wloe', 'xloe', 'yloe', 'zloe', 'laoe', 'lboe', 'lcoe', 'ldoe', 'leoe', 'lfoe', 'lgoe', 'lhoe', 'lioe', 'ljoe', 'lkoe', 'lloe', 'lmoe', 'lnoe', 'looe', 'lpoe', 'lqoe', 'lroe', 'lsoe', 'ltoe', 'luoe', 'lvoe', 'lwoe', 'lxoe', 'lyoe', 'lzoe', 'loae', 'lobe', 'loce', 'lode', 'loee', 'lofe', 'loge', 'lohe', 'loie', 'loje', 'loke', 'lole', 'lome', 'lone', 'looe', 'lope', 'loqe', 'lore', 'lose', 'lote', 'loue', 'love', 'lowe', 'loxe', 'loye', 'loze']\n"
     ]
    }
   ],
   "source": [
    "print(insert('loe'))"
   ]
  },
  {
   "cell_type": "code",
   "execution_count": 294,
   "id": "15a6f3e4-77ec-4a97-b960-c5e89b3a4595",
   "metadata": {},
   "outputs": [],
   "source": [
    "## finding the predictions (level 1 edit)"
   ]
  },
  {
   "cell_type": "code",
   "execution_count": 224,
   "id": "eb44edfc-c8d3-47bf-8a1f-773a55640c92",
   "metadata": {},
   "outputs": [],
   "source": [
    "## combinig possible words\n",
    "def edit(word):\n",
    "    return (insert(word)+replace(word)+delete(word)+swap(word))"
   ]
  },
  {
   "cell_type": "code",
   "execution_count": 256,
   "id": "d075ef14-fdfe-4b32-98cb-683adb714e7a",
   "metadata": {},
   "outputs": [],
   "source": [
    "## finding possible words"
   ]
  },
  {
   "cell_type": "code",
   "execution_count": 334,
   "id": "40ed6c6d-86da-4054-bca4-8326be17746c",
   "metadata": {},
   "outputs": [],
   "source": [
    "def spell_check_edit_1(word, count=5):\n",
    "    suggested_words = edit(word)\n",
    "    suggested_words = list(set(suggested_words))\n",
    "    output = []\n",
    "    for word in suggested_words:\n",
    "        if word in word_probability.keys():\n",
    "            output.append([word, word_probability[word]])\n",
    "    return list(pd.DataFrame(output, columns=['word','prob']).sort_values(by='prob', ascending=False).head(count)['word'].values)"
   ]
  },
  {
   "cell_type": "code",
   "execution_count": 342,
   "id": "6ac14564-36ef-4946-8931-9a21000dd23f",
   "metadata": {},
   "outputs": [
    {
     "data": {
      "text/plain": [
       "['family']"
      ]
     },
     "execution_count": 342,
     "metadata": {},
     "output_type": "execute_result"
    }
   ],
   "source": [
    "spell_check_edit_1('famili')"
   ]
  },
  {
   "cell_type": "code",
   "execution_count": 296,
   "id": "dcdaa9d8-dacd-4ed8-b5a7-ffca45835265",
   "metadata": {},
   "outputs": [],
   "source": [
    "## finding the prediction (level 2 edit)"
   ]
  },
  {
   "cell_type": "code",
   "execution_count": 338,
   "id": "6b228b22-aa25-4d3e-84fc-dddc51359348",
   "metadata": {},
   "outputs": [],
   "source": [
    "## combinig possible words\n",
    "def spell_check_edit_2(word, count=5):\n",
    "    output = []\n",
    "    suggested_words = edit(word)\n",
    "    for e1 in edit(word):\n",
    "        suggested_words += edit(e1)\n",
    "    suggested_words = list(set(suggested_words))\n",
    "    for word in suggested_words:\n",
    "        if word in word_probability.keys():\n",
    "            output.append([word, word_probability[word]])\n",
    "    return list(pd.DataFrame(output, columns=['word','prob']).sort_values(by='prob', ascending=False).head(count)['word'].values)"
   ]
  },
  {
   "cell_type": "code",
   "execution_count": 344,
   "id": "f97d7211-1382-4107-86cd-b4aae37412c3",
   "metadata": {},
   "outputs": [
    {
     "data": {
      "text/plain": [
       "['family', 'familiar', 'families', 'camelia']"
      ]
     },
     "execution_count": 344,
     "metadata": {},
     "output_type": "execute_result"
    }
   ],
   "source": [
    "spell_check_edit_2('familia')"
   ]
  },
  {
   "cell_type": "code",
   "execution_count": null,
   "id": "f9d2598e-f92a-4add-8240-c08d1772c30e",
   "metadata": {},
   "outputs": [],
   "source": []
  }
 ],
 "metadata": {
  "kernelspec": {
   "display_name": "Python 3 (ipykernel)",
   "language": "python",
   "name": "python3"
  },
  "language_info": {
   "codemirror_mode": {
    "name": "ipython",
    "version": 3
   },
   "file_extension": ".py",
   "mimetype": "text/x-python",
   "name": "python",
   "nbconvert_exporter": "python",
   "pygments_lexer": "ipython3",
   "version": "3.12.4"
  }
 },
 "nbformat": 4,
 "nbformat_minor": 5
}
